{
 "cells": [
  {
   "cell_type": "code",
   "execution_count": null,
   "id": "fff03024",
   "metadata": {},
   "outputs": [
    {
     "ename": "",
     "evalue": "",
     "output_type": "error",
     "traceback": [
      "\u001b[1;31mFailed to start the Kernel. \n",
      "\u001b[1;31mWARNING: You are using pip version 22.0.4; however, version 22.2.2 is available.\n",
      "\u001b[1;31mYou should consider upgrading via the '/usr/local/bin/python3.10 -m pip install --upgrade pip' command. \n",
      "\u001b[1;31mView Jupyter <a href='command:jupyter.viewOutput'>log</a> for further details."
     ]
    }
   ],
   "source": [
    "import pandas as pd\n",
    "import numpy as np\n",
    "import matplotlib.pyplot as plt\n",
    "import seaborn as sns\n",
    "import re\n",
    "import warnings\n",
    "import plotly.graph_objs as go\n",
    "import plotly.offline as py\n",
    "from sklearn.model_selection import train_test_split\n",
    "from sklearn.preprocessing import LabelEncoder\n",
    "from sklearn.linear_model import LinearRegression\n",
    "from sklearn.preprocessing import MinMaxScaler\n",
    "from sklearn.preprocessing import StandardScaler\n",
    "from sklearn.tree import DecisionTreeClassifier\n",
    "from sklearn.metrics import confusion_matrix\n",
    "from sklearn.feature_selection import RFECV\n",
    "from sklearn import tree\n",
    "warnings.filterwarnings(\"ignore\", 'This pattern has match groups')"
   ]
  },
  {
   "cell_type": "code",
   "execution_count": null,
   "id": "b69c1bd2",
   "metadata": {},
   "outputs": [
    {
     "ename": "",
     "evalue": "",
     "output_type": "error",
     "traceback": [
      "\u001b[1;31mFailed to start the Kernel. \n",
      "\u001b[1;31mWARNING: You are using pip version 22.0.4; however, version 22.2.2 is available.\n",
      "\u001b[1;31mYou should consider upgrading via the '/usr/local/bin/python3.10 -m pip install --upgrade pip' command. \n",
      "\u001b[1;31mView Jupyter <a href='command:jupyter.viewOutput'>log</a> for further details."
     ]
    }
   ],
   "source": [
    "x=pd.read_csv('supply_chain.csv',encoding='latin1')"
   ]
  },
  {
   "cell_type": "code",
   "execution_count": null,
   "id": "56a5e82e",
   "metadata": {},
   "outputs": [
    {
     "ename": "",
     "evalue": "",
     "output_type": "error",
     "traceback": [
      "\u001b[1;31mFailed to start the Kernel. \n",
      "\u001b[1;31mWARNING: You are using pip version 22.0.4; however, version 22.2.2 is available.\n",
      "\u001b[1;31mYou should consider upgrading via the '/usr/local/bin/python3.10 -m pip install --upgrade pip' command. \n",
      "\u001b[1;31mView Jupyter <a href='command:jupyter.viewOutput'>log</a> for further details."
     ]
    }
   ],
   "source": [
    "x.head()"
   ]
  },
  {
   "cell_type": "code",
   "execution_count": null,
   "id": "02e19742",
   "metadata": {},
   "outputs": [
    {
     "ename": "",
     "evalue": "",
     "output_type": "error",
     "traceback": [
      "\u001b[1;31mFailed to start the Kernel. \n",
      "\u001b[1;31mWARNING: You are using pip version 22.0.4; however, version 22.2.2 is available.\n",
      "\u001b[1;31mYou should consider upgrading via the '/usr/local/bin/python3.10 -m pip install --upgrade pip' command. \n",
      "\u001b[1;31mView Jupyter <a href='command:jupyter.viewOutput'>log</a> for further details."
     ]
    }
   ],
   "source": [
    "x.shape"
   ]
  },
  {
   "cell_type": "code",
   "execution_count": null,
   "id": "8e9efa9a",
   "metadata": {},
   "outputs": [
    {
     "ename": "",
     "evalue": "",
     "output_type": "error",
     "traceback": [
      "\u001b[1;31mFailed to start the Kernel. \n",
      "\u001b[1;31mWARNING: You are using pip version 22.0.4; however, version 22.2.2 is available.\n",
      "\u001b[1;31mYou should consider upgrading via the '/usr/local/bin/python3.10 -m pip install --upgrade pip' command. \n",
      "\u001b[1;31mView Jupyter <a href='command:jupyter.viewOutput'>log</a> for further details."
     ]
    }
   ],
   "source": [
    "x.describe()"
   ]
  },
  {
   "cell_type": "code",
   "execution_count": null,
   "id": "fdf004a1",
   "metadata": {},
   "outputs": [
    {
     "ename": "",
     "evalue": "",
     "output_type": "error",
     "traceback": [
      "\u001b[1;31mFailed to start the Kernel. \n",
      "\u001b[1;31mWARNING: You are using pip version 22.0.4; however, version 22.2.2 is available.\n",
      "\u001b[1;31mYou should consider upgrading via the '/usr/local/bin/python3.10 -m pip install --upgrade pip' command. \n",
      "\u001b[1;31mView Jupyter <a href='command:jupyter.viewOutput'>log</a> for further details."
     ]
    }
   ],
   "source": [
    "x.isnull().sum()"
   ]
  },
  {
   "cell_type": "code",
   "execution_count": null,
   "id": "50acc541",
   "metadata": {},
   "outputs": [
    {
     "ename": "",
     "evalue": "",
     "output_type": "error",
     "traceback": [
      "\u001b[1;31mFailed to start the Kernel. \n",
      "\u001b[1;31mWARNING: You are using pip version 22.0.4; however, version 22.2.2 is available.\n",
      "\u001b[1;31mYou should consider upgrading via the '/usr/local/bin/python3.10 -m pip install --upgrade pip' command. \n",
      "\u001b[1;31mView Jupyter <a href='command:jupyter.viewOutput'>log</a> for further details."
     ]
    }
   ],
   "source": [
    "(x.isnull().sum()/x.shape[0])*100"
   ]
  },
  {
   "cell_type": "markdown",
   "id": "bbe3ad3f",
   "metadata": {},
   "source": [
    "#### Irrelevant columns(Might not be needed)\n",
    "\n"
   ]
  },
  {
   "cell_type": "code",
   "execution_count": null,
   "id": "a9392b5e",
   "metadata": {},
   "outputs": [
    {
     "ename": "",
     "evalue": "",
     "output_type": "error",
     "traceback": [
      "\u001b[1;31mFailed to start the Kernel. \n",
      "\u001b[1;31mWARNING: You are using pip version 22.0.4; however, version 22.2.2 is available.\n",
      "\u001b[1;31mYou should consider upgrading via the '/usr/local/bin/python3.10 -m pip install --upgrade pip' command. \n",
      "\u001b[1;31mView Jupyter <a href='command:jupyter.viewOutput'>log</a> for further details."
     ]
    }
   ],
   "source": [
    "x=x.drop(columns=['PQ #','PO / SO #','ASN/DN #','Managed By','Fulfill Via','Vendor INCO Term','PQ First Sent to Client Date','Product Group','Vendor'])"
   ]
  },
  {
   "cell_type": "code",
   "execution_count": null,
   "id": "f908f0a1",
   "metadata": {},
   "outputs": [
    {
     "ename": "",
     "evalue": "",
     "output_type": "error",
     "traceback": [
      "\u001b[1;31mFailed to start the Kernel. \n",
      "\u001b[1;31mWARNING: You are using pip version 22.0.4; however, version 22.2.2 is available.\n",
      "\u001b[1;31mYou should consider upgrading via the '/usr/local/bin/python3.10 -m pip install --upgrade pip' command. \n",
      "\u001b[1;31mView Jupyter <a href='command:jupyter.viewOutput'>log</a> for further details."
     ]
    }
   ],
   "source": [
    "x=x.drop(columns=['ID'])"
   ]
  },
  {
   "cell_type": "code",
   "execution_count": null,
   "id": "eb7c9af7",
   "metadata": {},
   "outputs": [
    {
     "ename": "",
     "evalue": "",
     "output_type": "error",
     "traceback": [
      "\u001b[1;31mFailed to start the Kernel. \n",
      "\u001b[1;31mWARNING: You are using pip version 22.0.4; however, version 22.2.2 is available.\n",
      "\u001b[1;31mYou should consider upgrading via the '/usr/local/bin/python3.10 -m pip install --upgrade pip' command. \n",
      "\u001b[1;31mView Jupyter <a href='command:jupyter.viewOutput'>log</a> for further details."
     ]
    }
   ],
   "source": []
  },
  {
   "cell_type": "markdown",
   "id": "c4f3e89b",
   "metadata": {},
   "source": [
    "##### Line Item Insaurance"
   ]
  },
  {
   "cell_type": "code",
   "execution_count": null,
   "id": "20c10d42",
   "metadata": {},
   "outputs": [
    {
     "ename": "",
     "evalue": "",
     "output_type": "error",
     "traceback": [
      "\u001b[1;31mFailed to start the Kernel. \n",
      "\u001b[1;31mWARNING: You are using pip version 22.0.4; however, version 22.2.2 is available.\n",
      "\u001b[1;31mYou should consider upgrading via the '/usr/local/bin/python3.10 -m pip install --upgrade pip' command. \n",
      "\u001b[1;31mView Jupyter <a href='command:jupyter.viewOutput'>log</a> for further details."
     ]
    }
   ],
   "source": [
    "#1\n",
    "x['Line Item Insurance (USD)']=x['Line Item Insurance (USD)'].fillna(x['Line Item Insurance (USD)'].median())"
   ]
  },
  {
   "cell_type": "code",
   "execution_count": null,
   "id": "e0de740a",
   "metadata": {},
   "outputs": [
    {
     "ename": "",
     "evalue": "",
     "output_type": "error",
     "traceback": [
      "\u001b[1;31mFailed to start the Kernel. \n",
      "\u001b[1;31mWARNING: You are using pip version 22.0.4; however, version 22.2.2 is available.\n",
      "\u001b[1;31mYou should consider upgrading via the '/usr/local/bin/python3.10 -m pip install --upgrade pip' command. \n",
      "\u001b[1;31mView Jupyter <a href='command:jupyter.viewOutput'>log</a> for further details."
     ]
    }
   ],
   "source": [
    "#2\n",
    "x['Line Item Insurance (USD)'].values[x['Line Item Insurance (USD)'].values>1000]=x['Line Item Insurance (USD)'].median()"
   ]
  },
  {
   "cell_type": "code",
   "execution_count": null,
   "id": "d55751f9",
   "metadata": {},
   "outputs": [
    {
     "ename": "",
     "evalue": "",
     "output_type": "error",
     "traceback": [
      "\u001b[1;31mFailed to start the Kernel. \n",
      "\u001b[1;31mWARNING: You are using pip version 22.0.4; however, version 22.2.2 is available.\n",
      "\u001b[1;31mYou should consider upgrading via the '/usr/local/bin/python3.10 -m pip install --upgrade pip' command. \n",
      "\u001b[1;31mView Jupyter <a href='command:jupyter.viewOutput'>log</a> for further details."
     ]
    }
   ],
   "source": [
    "#3\n",
    "x['Line Item Insurance (USD)'].values[x['Line Item Insurance (USD)'].values>200]=x['Line Item Insurance (USD)'].mean()"
   ]
  },
  {
   "cell_type": "code",
   "execution_count": null,
   "id": "baca2afa",
   "metadata": {},
   "outputs": [
    {
     "ename": "",
     "evalue": "",
     "output_type": "error",
     "traceback": [
      "\u001b[1;31mFailed to start the Kernel. \n",
      "\u001b[1;31mWARNING: You are using pip version 22.0.4; however, version 22.2.2 is available.\n",
      "\u001b[1;31mYou should consider upgrading via the '/usr/local/bin/python3.10 -m pip install --upgrade pip' command. \n",
      "\u001b[1;31mView Jupyter <a href='command:jupyter.viewOutput'>log</a> for further details."
     ]
    }
   ],
   "source": []
  },
  {
   "cell_type": "code",
   "execution_count": null,
   "id": "b7acf10f",
   "metadata": {},
   "outputs": [
    {
     "ename": "",
     "evalue": "",
     "output_type": "error",
     "traceback": [
      "\u001b[1;31mFailed to start the Kernel. \n",
      "\u001b[1;31mWARNING: You are using pip version 22.0.4; however, version 22.2.2 is available.\n",
      "\u001b[1;31mYou should consider upgrading via the '/usr/local/bin/python3.10 -m pip install --upgrade pip' command. \n",
      "\u001b[1;31mView Jupyter <a href='command:jupyter.viewOutput'>log</a> for further details."
     ]
    }
   ],
   "source": [
    "x['Line Item Insurance (USD)']\n",
    "x.shape"
   ]
  },
  {
   "cell_type": "code",
   "execution_count": null,
   "id": "a0447c9f",
   "metadata": {},
   "outputs": [
    {
     "ename": "",
     "evalue": "",
     "output_type": "error",
     "traceback": [
      "\u001b[1;31mFailed to start the Kernel. \n",
      "\u001b[1;31mWARNING: You are using pip version 22.0.4; however, version 22.2.2 is available.\n",
      "\u001b[1;31mYou should consider upgrading via the '/usr/local/bin/python3.10 -m pip install --upgrade pip' command. \n",
      "\u001b[1;31mView Jupyter <a href='command:jupyter.viewOutput'>log</a> for further details."
     ]
    }
   ],
   "source": [
    "sns.boxplot(y=x['Line Item Insurance (USD)'])"
   ]
  },
  {
   "cell_type": "code",
   "execution_count": null,
   "id": "9139d377",
   "metadata": {},
   "outputs": [
    {
     "ename": "",
     "evalue": "",
     "output_type": "error",
     "traceback": [
      "\u001b[1;31mFailed to start the Kernel. \n",
      "\u001b[1;31mWARNING: You are using pip version 22.0.4; however, version 22.2.2 is available.\n",
      "\u001b[1;31mYou should consider upgrading via the '/usr/local/bin/python3.10 -m pip install --upgrade pip' command. \n",
      "\u001b[1;31mView Jupyter <a href='command:jupyter.viewOutput'>log</a> for further details."
     ]
    }
   ],
   "source": []
  },
  {
   "cell_type": "code",
   "execution_count": null,
   "id": "50a1e69b",
   "metadata": {},
   "outputs": [
    {
     "ename": "",
     "evalue": "",
     "output_type": "error",
     "traceback": [
      "\u001b[1;31mFailed to start the Kernel. \n",
      "\u001b[1;31mWARNING: You are using pip version 22.0.4; however, version 22.2.2 is available.\n",
      "\u001b[1;31mYou should consider upgrading via the '/usr/local/bin/python3.10 -m pip install --upgrade pip' command. \n",
      "\u001b[1;31mView Jupyter <a href='command:jupyter.viewOutput'>log</a> for further details."
     ]
    }
   ],
   "source": [
    "x.head()"
   ]
  },
  {
   "cell_type": "code",
   "execution_count": null,
   "id": "80f17677",
   "metadata": {},
   "outputs": [
    {
     "ename": "",
     "evalue": "",
     "output_type": "error",
     "traceback": [
      "\u001b[1;31mFailed to start the Kernel. \n",
      "\u001b[1;31mWARNING: You are using pip version 22.0.4; however, version 22.2.2 is available.\n",
      "\u001b[1;31mYou should consider upgrading via the '/usr/local/bin/python3.10 -m pip install --upgrade pip' command. \n",
      "\u001b[1;31mView Jupyter <a href='command:jupyter.viewOutput'>log</a> for further details."
     ]
    }
   ],
   "source": []
  },
  {
   "cell_type": "markdown",
   "id": "f8bd2ecd",
   "metadata": {},
   "source": [
    "##### Fregit cost US Dollar"
   ]
  },
  {
   "cell_type": "code",
   "execution_count": null,
   "id": "6abdc05b",
   "metadata": {},
   "outputs": [
    {
     "ename": "",
     "evalue": "",
     "output_type": "error",
     "traceback": [
      "\u001b[1;31mFailed to start the Kernel. \n",
      "\u001b[1;31mWARNING: You are using pip version 22.0.4; however, version 22.2.2 is available.\n",
      "\u001b[1;31mYou should consider upgrading via the '/usr/local/bin/python3.10 -m pip install --upgrade pip' command. \n",
      "\u001b[1;31mView Jupyter <a href='command:jupyter.viewOutput'>log</a> for further details."
     ]
    }
   ],
   "source": [
    "x['Freight Cost (USD)'].values"
   ]
  },
  {
   "cell_type": "code",
   "execution_count": null,
   "id": "647cf4c7",
   "metadata": {},
   "outputs": [
    {
     "ename": "",
     "evalue": "",
     "output_type": "error",
     "traceback": [
      "\u001b[1;31mFailed to start the Kernel. \n",
      "\u001b[1;31mWARNING: You are using pip version 22.0.4; however, version 22.2.2 is available.\n",
      "\u001b[1;31mYou should consider upgrading via the '/usr/local/bin/python3.10 -m pip install --upgrade pip' command. \n",
      "\u001b[1;31mView Jupyter <a href='command:jupyter.viewOutput'>log</a> for further details."
     ]
    }
   ],
   "source": [
    "x=x.loc[~x['Freight Cost (USD)'].str.contains('Freight Included in Commodity Cost')]"
   ]
  },
  {
   "cell_type": "code",
   "execution_count": null,
   "id": "c96d50ac",
   "metadata": {},
   "outputs": [
    {
     "ename": "",
     "evalue": "",
     "output_type": "error",
     "traceback": [
      "\u001b[1;31mFailed to start the Kernel. \n",
      "\u001b[1;31mWARNING: You are using pip version 22.0.4; however, version 22.2.2 is available.\n",
      "\u001b[1;31mYou should consider upgrading via the '/usr/local/bin/python3.10 -m pip install --upgrade pip' command. \n",
      "\u001b[1;31mView Jupyter <a href='command:jupyter.viewOutput'>log</a> for further details."
     ]
    }
   ],
   "source": [
    "x=x.loc[~x['Freight Cost (USD)'].str.contains('Invoiced Separately')]"
   ]
  },
  {
   "cell_type": "code",
   "execution_count": null,
   "id": "4c3ed6b7",
   "metadata": {},
   "outputs": [
    {
     "ename": "",
     "evalue": "",
     "output_type": "error",
     "traceback": [
      "\u001b[1;31mFailed to start the Kernel. \n",
      "\u001b[1;31mWARNING: You are using pip version 22.0.4; however, version 22.2.2 is available.\n",
      "\u001b[1;31mYou should consider upgrading via the '/usr/local/bin/python3.10 -m pip install --upgrade pip' command. \n",
      "\u001b[1;31mView Jupyter <a href='command:jupyter.viewOutput'>log</a> for further details."
     ]
    }
   ],
   "source": [
    "x=x.loc[~x['Freight Cost (USD)'].str.contains('See')]"
   ]
  },
  {
   "cell_type": "code",
   "execution_count": null,
   "id": "d407ecd1",
   "metadata": {},
   "outputs": [
    {
     "ename": "",
     "evalue": "",
     "output_type": "error",
     "traceback": [
      "\u001b[1;31mFailed to start the Kernel. \n",
      "\u001b[1;31mWARNING: You are using pip version 22.0.4; however, version 22.2.2 is available.\n",
      "\u001b[1;31mYou should consider upgrading via the '/usr/local/bin/python3.10 -m pip install --upgrade pip' command. \n",
      "\u001b[1;31mView Jupyter <a href='command:jupyter.viewOutput'>log</a> for further details."
     ]
    }
   ],
   "source": [
    "x['Freight Cost (USD)'].values"
   ]
  },
  {
   "cell_type": "code",
   "execution_count": null,
   "id": "9c272f0b",
   "metadata": {},
   "outputs": [
    {
     "ename": "",
     "evalue": "",
     "output_type": "error",
     "traceback": [
      "\u001b[1;31mFailed to start the Kernel. \n",
      "\u001b[1;31mWARNING: You are using pip version 22.0.4; however, version 22.2.2 is available.\n",
      "\u001b[1;31mYou should consider upgrading via the '/usr/local/bin/python3.10 -m pip install --upgrade pip' command. \n",
      "\u001b[1;31mView Jupyter <a href='command:jupyter.viewOutput'>log</a> for further details."
     ]
    }
   ],
   "source": [
    "x.shape"
   ]
  },
  {
   "cell_type": "markdown",
   "id": "2844ab9d",
   "metadata": {},
   "source": [
    "##### Shipment mode"
   ]
  },
  {
   "cell_type": "code",
   "execution_count": null,
   "id": "147933ab",
   "metadata": {},
   "outputs": [
    {
     "ename": "",
     "evalue": "",
     "output_type": "error",
     "traceback": [
      "\u001b[1;31mFailed to start the Kernel. \n",
      "\u001b[1;31mWARNING: You are using pip version 22.0.4; however, version 22.2.2 is available.\n",
      "\u001b[1;31mYou should consider upgrading via the '/usr/local/bin/python3.10 -m pip install --upgrade pip' command. \n",
      "\u001b[1;31mView Jupyter <a href='command:jupyter.viewOutput'>log</a> for further details."
     ]
    }
   ],
   "source": [
    "x"
   ]
  },
  {
   "cell_type": "code",
   "execution_count": null,
   "id": "90c4bf38",
   "metadata": {},
   "outputs": [
    {
     "ename": "",
     "evalue": "",
     "output_type": "error",
     "traceback": [
      "\u001b[1;31mFailed to start the Kernel. \n",
      "\u001b[1;31mWARNING: You are using pip version 22.0.4; however, version 22.2.2 is available.\n",
      "\u001b[1;31mYou should consider upgrading via the '/usr/local/bin/python3.10 -m pip install --upgrade pip' command. \n",
      "\u001b[1;31mView Jupyter <a href='command:jupyter.viewOutput'>log</a> for further details."
     ]
    }
   ],
   "source": [
    "x.isnull().sum()"
   ]
  },
  {
   "cell_type": "code",
   "execution_count": null,
   "id": "a9b4c727",
   "metadata": {},
   "outputs": [
    {
     "ename": "",
     "evalue": "",
     "output_type": "error",
     "traceback": [
      "\u001b[1;31mFailed to start the Kernel. \n",
      "\u001b[1;31mWARNING: You are using pip version 22.0.4; however, version 22.2.2 is available.\n",
      "\u001b[1;31mYou should consider upgrading via the '/usr/local/bin/python3.10 -m pip install --upgrade pip' command. \n",
      "\u001b[1;31mView Jupyter <a href='command:jupyter.viewOutput'>log</a> for further details."
     ]
    }
   ],
   "source": [
    "x['Shipment Mode'].values"
   ]
  },
  {
   "cell_type": "code",
   "execution_count": null,
   "id": "c049a9da",
   "metadata": {
    "scrolled": false
   },
   "outputs": [
    {
     "ename": "",
     "evalue": "",
     "output_type": "error",
     "traceback": [
      "\u001b[1;31mFailed to start the Kernel. \n",
      "\u001b[1;31mWARNING: You are using pip version 22.0.4; however, version 22.2.2 is available.\n",
      "\u001b[1;31mYou should consider upgrading via the '/usr/local/bin/python3.10 -m pip install --upgrade pip' command. \n",
      "\u001b[1;31mView Jupyter <a href='command:jupyter.viewOutput'>log</a> for further details."
     ]
    }
   ],
   "source": [
    "x['Shipment Mode']=x['Shipment Mode'].fillna(x['Shipment Mode'].mode()[0])"
   ]
  },
  {
   "cell_type": "code",
   "execution_count": null,
   "id": "d5a1999c",
   "metadata": {},
   "outputs": [
    {
     "ename": "",
     "evalue": "",
     "output_type": "error",
     "traceback": [
      "\u001b[1;31mFailed to start the Kernel. \n",
      "\u001b[1;31mWARNING: You are using pip version 22.0.4; however, version 22.2.2 is available.\n",
      "\u001b[1;31mYou should consider upgrading via the '/usr/local/bin/python3.10 -m pip install --upgrade pip' command. \n",
      "\u001b[1;31mView Jupyter <a href='command:jupyter.viewOutput'>log</a> for further details."
     ]
    }
   ],
   "source": [
    "x['Shipment Mode'].isnull().sum()"
   ]
  },
  {
   "cell_type": "markdown",
   "id": "3d121608",
   "metadata": {},
   "source": [
    "##### Dosage"
   ]
  },
  {
   "cell_type": "code",
   "execution_count": null,
   "id": "3c6c9bfd",
   "metadata": {},
   "outputs": [
    {
     "ename": "",
     "evalue": "",
     "output_type": "error",
     "traceback": [
      "\u001b[1;31mFailed to start the Kernel. \n",
      "\u001b[1;31mWARNING: You are using pip version 22.0.4; however, version 22.2.2 is available.\n",
      "\u001b[1;31mYou should consider upgrading via the '/usr/local/bin/python3.10 -m pip install --upgrade pip' command. \n",
      "\u001b[1;31mView Jupyter <a href='command:jupyter.viewOutput'>log</a> for further details."
     ]
    }
   ],
   "source": [
    "x.isnull().sum()"
   ]
  },
  {
   "cell_type": "code",
   "execution_count": null,
   "id": "58339139",
   "metadata": {},
   "outputs": [
    {
     "ename": "",
     "evalue": "",
     "output_type": "error",
     "traceback": [
      "\u001b[1;31mFailed to start the Kernel. \n",
      "\u001b[1;31mWARNING: You are using pip version 22.0.4; however, version 22.2.2 is available.\n",
      "\u001b[1;31mYou should consider upgrading via the '/usr/local/bin/python3.10 -m pip install --upgrade pip' command. \n",
      "\u001b[1;31mView Jupyter <a href='command:jupyter.viewOutput'>log</a> for further details."
     ]
    }
   ],
   "source": [
    "x['Dosage'].values"
   ]
  },
  {
   "cell_type": "code",
   "execution_count": null,
   "id": "225e76f1",
   "metadata": {},
   "outputs": [
    {
     "ename": "",
     "evalue": "",
     "output_type": "error",
     "traceback": [
      "\u001b[1;31mFailed to start the Kernel. \n",
      "\u001b[1;31mWARNING: You are using pip version 22.0.4; however, version 22.2.2 is available.\n",
      "\u001b[1;31mYou should consider upgrading via the '/usr/local/bin/python3.10 -m pip install --upgrade pip' command. \n",
      "\u001b[1;31mView Jupyter <a href='command:jupyter.viewOutput'>log</a> for further details."
     ]
    }
   ],
   "source": [
    "x['Dosage'].mode()"
   ]
  },
  {
   "cell_type": "code",
   "execution_count": null,
   "id": "ec9ecd87",
   "metadata": {},
   "outputs": [
    {
     "ename": "",
     "evalue": "",
     "output_type": "error",
     "traceback": [
      "\u001b[1;31mFailed to start the Kernel. \n",
      "\u001b[1;31mWARNING: You are using pip version 22.0.4; however, version 22.2.2 is available.\n",
      "\u001b[1;31mYou should consider upgrading via the '/usr/local/bin/python3.10 -m pip install --upgrade pip' command. \n",
      "\u001b[1;31mView Jupyter <a href='command:jupyter.viewOutput'>log</a> for further details."
     ]
    }
   ],
   "source": [
    "x['Dosage']=x['Dosage'].fillna(x['Dosage'].mode()[0])"
   ]
  },
  {
   "cell_type": "code",
   "execution_count": null,
   "id": "3f4abe48",
   "metadata": {},
   "outputs": [
    {
     "ename": "",
     "evalue": "",
     "output_type": "error",
     "traceback": [
      "\u001b[1;31mFailed to start the Kernel. \n",
      "\u001b[1;31mWARNING: You are using pip version 22.0.4; however, version 22.2.2 is available.\n",
      "\u001b[1;31mYou should consider upgrading via the '/usr/local/bin/python3.10 -m pip install --upgrade pip' command. \n",
      "\u001b[1;31mView Jupyter <a href='command:jupyter.viewOutput'>log</a> for further details."
     ]
    }
   ],
   "source": [
    "x['Dosage'].isnull().sum()"
   ]
  },
  {
   "cell_type": "markdown",
   "id": "5b384b09",
   "metadata": {},
   "source": [
    "##### Weight (Kilograms)"
   ]
  },
  {
   "cell_type": "code",
   "execution_count": null,
   "id": "8c9eff6e",
   "metadata": {},
   "outputs": [
    {
     "ename": "",
     "evalue": "",
     "output_type": "error",
     "traceback": [
      "\u001b[1;31mFailed to start the Kernel. \n",
      "\u001b[1;31mWARNING: You are using pip version 22.0.4; however, version 22.2.2 is available.\n",
      "\u001b[1;31mYou should consider upgrading via the '/usr/local/bin/python3.10 -m pip install --upgrade pip' command. \n",
      "\u001b[1;31mView Jupyter <a href='command:jupyter.viewOutput'>log</a> for further details."
     ]
    }
   ],
   "source": [
    "x['Weight (Kilograms)'].unique()"
   ]
  },
  {
   "cell_type": "code",
   "execution_count": null,
   "id": "9265cf57",
   "metadata": {},
   "outputs": [
    {
     "ename": "",
     "evalue": "",
     "output_type": "error",
     "traceback": [
      "\u001b[1;31mFailed to start the Kernel. \n",
      "\u001b[1;31mWARNING: You are using pip version 22.0.4; however, version 22.2.2 is available.\n",
      "\u001b[1;31mYou should consider upgrading via the '/usr/local/bin/python3.10 -m pip install --upgrade pip' command. \n",
      "\u001b[1;31mView Jupyter <a href='command:jupyter.viewOutput'>log</a> for further details."
     ]
    }
   ],
   "source": [
    "x=x.loc[~x['Weight (Kilograms)'].str.contains('Weight Captured Separately')]"
   ]
  },
  {
   "cell_type": "code",
   "execution_count": null,
   "id": "32ca7443",
   "metadata": {},
   "outputs": [
    {
     "ename": "",
     "evalue": "",
     "output_type": "error",
     "traceback": [
      "\u001b[1;31mFailed to start the Kernel. \n",
      "\u001b[1;31mWARNING: You are using pip version 22.0.4; however, version 22.2.2 is available.\n",
      "\u001b[1;31mYou should consider upgrading via the '/usr/local/bin/python3.10 -m pip install --upgrade pip' command. \n",
      "\u001b[1;31mView Jupyter <a href='command:jupyter.viewOutput'>log</a> for further details."
     ]
    }
   ],
   "source": [
    "x=x.loc[~x['Weight (Kilograms)'].str.contains('See')]\n"
   ]
  },
  {
   "cell_type": "code",
   "execution_count": null,
   "id": "72462a49",
   "metadata": {},
   "outputs": [
    {
     "ename": "",
     "evalue": "",
     "output_type": "error",
     "traceback": [
      "\u001b[1;31mFailed to start the Kernel. \n",
      "\u001b[1;31mWARNING: You are using pip version 22.0.4; however, version 22.2.2 is available.\n",
      "\u001b[1;31mYou should consider upgrading via the '/usr/local/bin/python3.10 -m pip install --upgrade pip' command. \n",
      "\u001b[1;31mView Jupyter <a href='command:jupyter.viewOutput'>log</a> for further details."
     ]
    }
   ],
   "source": [
    "x.shape"
   ]
  },
  {
   "cell_type": "markdown",
   "id": "e268dd83",
   "metadata": {},
   "source": [
    "##### PO Sent to Vendor Date\n"
   ]
  },
  {
   "cell_type": "code",
   "execution_count": null,
   "id": "9756bd4a",
   "metadata": {},
   "outputs": [
    {
     "ename": "",
     "evalue": "",
     "output_type": "error",
     "traceback": [
      "\u001b[1;31mFailed to start the Kernel. \n",
      "\u001b[1;31mWARNING: You are using pip version 22.0.4; however, version 22.2.2 is available.\n",
      "\u001b[1;31mYou should consider upgrading via the '/usr/local/bin/python3.10 -m pip install --upgrade pip' command. \n",
      "\u001b[1;31mView Jupyter <a href='command:jupyter.viewOutput'>log</a> for further details."
     ]
    }
   ],
   "source": [
    "x['PO Sent to Vendor Date'].values"
   ]
  },
  {
   "cell_type": "code",
   "execution_count": null,
   "id": "f4fe59ed",
   "metadata": {},
   "outputs": [
    {
     "ename": "",
     "evalue": "",
     "output_type": "error",
     "traceback": [
      "\u001b[1;31mFailed to start the Kernel. \n",
      "\u001b[1;31mWARNING: You are using pip version 22.0.4; however, version 22.2.2 is available.\n",
      "\u001b[1;31mYou should consider upgrading via the '/usr/local/bin/python3.10 -m pip install --upgrade pip' command. \n",
      "\u001b[1;31mView Jupyter <a href='command:jupyter.viewOutput'>log</a> for further details."
     ]
    }
   ],
   "source": [
    "x['PO Sent to Vendor Date'].isnull().sum()"
   ]
  },
  {
   "cell_type": "code",
   "execution_count": null,
   "id": "cd66a8f3",
   "metadata": {},
   "outputs": [
    {
     "ename": "",
     "evalue": "",
     "output_type": "error",
     "traceback": [
      "\u001b[1;31mFailed to start the Kernel. \n",
      "\u001b[1;31mWARNING: You are using pip version 22.0.4; however, version 22.2.2 is available.\n",
      "\u001b[1;31mYou should consider upgrading via the '/usr/local/bin/python3.10 -m pip install --upgrade pip' command. \n",
      "\u001b[1;31mView Jupyter <a href='command:jupyter.viewOutput'>log</a> for further details."
     ]
    }
   ],
   "source": [
    "x.shape"
   ]
  },
  {
   "cell_type": "code",
   "execution_count": null,
   "id": "dfe99940",
   "metadata": {},
   "outputs": [
    {
     "ename": "",
     "evalue": "",
     "output_type": "error",
     "traceback": [
      "\u001b[1;31mFailed to start the Kernel. \n",
      "\u001b[1;31mWARNING: You are using pip version 22.0.4; however, version 22.2.2 is available.\n",
      "\u001b[1;31mYou should consider upgrading via the '/usr/local/bin/python3.10 -m pip install --upgrade pip' command. \n",
      "\u001b[1;31mView Jupyter <a href='command:jupyter.viewOutput'>log</a> for further details."
     ]
    }
   ],
   "source": [
    "x=x.loc[~x['PO Sent to Vendor Date'].str.contains('Date Not Captured')]"
   ]
  },
  {
   "cell_type": "code",
   "execution_count": null,
   "id": "f780a29c",
   "metadata": {},
   "outputs": [
    {
     "ename": "",
     "evalue": "",
     "output_type": "error",
     "traceback": [
      "\u001b[1;31mFailed to start the Kernel. \n",
      "\u001b[1;31mWARNING: You are using pip version 22.0.4; however, version 22.2.2 is available.\n",
      "\u001b[1;31mYou should consider upgrading via the '/usr/local/bin/python3.10 -m pip install --upgrade pip' command. \n",
      "\u001b[1;31mView Jupyter <a href='command:jupyter.viewOutput'>log</a> for further details."
     ]
    }
   ],
   "source": [
    "x=x.loc[~x['PO Sent to Vendor Date'].str.contains('N/A - From RDC')]"
   ]
  },
  {
   "cell_type": "markdown",
   "id": "3a4103ba",
   "metadata": {},
   "source": [
    "##### Converting date string using datetime"
   ]
  },
  {
   "cell_type": "code",
   "execution_count": null,
   "id": "14f7a20d",
   "metadata": {},
   "outputs": [
    {
     "ename": "",
     "evalue": "",
     "output_type": "error",
     "traceback": [
      "\u001b[1;31mFailed to start the Kernel. \n",
      "\u001b[1;31mWARNING: You are using pip version 22.0.4; however, version 22.2.2 is available.\n",
      "\u001b[1;31mYou should consider upgrading via the '/usr/local/bin/python3.10 -m pip install --upgrade pip' command. \n",
      "\u001b[1;31mView Jupyter <a href='command:jupyter.viewOutput'>log</a> for further details."
     ]
    }
   ],
   "source": [
    "for column in ['Scheduled Delivery Date', 'Delivered to Client Date', 'Delivery Recorded Date']:\n",
    "        x[column] = pd.to_datetime(x[column])\n",
    "        x[column + ' Year'] = x[column].apply(lambda x: x.year)\n",
    "        x[column + ' Month'] = x[column].apply(lambda x: x.month)\n",
    "        x[column + ' Day'] = x[column].apply(lambda x: x.day)\n",
    "        x = x.drop(column, axis=1)"
   ]
  },
  {
   "cell_type": "code",
   "execution_count": null,
   "id": "6f66e1d6",
   "metadata": {},
   "outputs": [
    {
     "ename": "",
     "evalue": "",
     "output_type": "error",
     "traceback": [
      "\u001b[1;31mFailed to start the Kernel. \n",
      "\u001b[1;31mWARNING: You are using pip version 22.0.4; however, version 22.2.2 is available.\n",
      "\u001b[1;31mYou should consider upgrading via the '/usr/local/bin/python3.10 -m pip install --upgrade pip' command. \n",
      "\u001b[1;31mView Jupyter <a href='command:jupyter.viewOutput'>log</a> for further details."
     ]
    }
   ],
   "source": [
    "x"
   ]
  },
  {
   "cell_type": "markdown",
   "id": "9ea6e13a",
   "metadata": {},
   "source": [
    "## ML TRAINING\n",
    "### Prediction of Weight(Kilograms) for freight cost reduction and minimizing delivery time. "
   ]
  },
  {
   "cell_type": "code",
   "execution_count": null,
   "id": "e369993e",
   "metadata": {},
   "outputs": [
    {
     "ename": "",
     "evalue": "",
     "output_type": "error",
     "traceback": [
      "\u001b[1;31mFailed to start the Kernel. \n",
      "\u001b[1;31mWARNING: You are using pip version 22.0.4; however, version 22.2.2 is available.\n",
      "\u001b[1;31mYou should consider upgrading via the '/usr/local/bin/python3.10 -m pip install --upgrade pip' command. \n",
      "\u001b[1;31mView Jupyter <a href='command:jupyter.viewOutput'>log</a> for further details."
     ]
    }
   ],
   "source": [
    "trainx=x[['Sub Classification','Line Item Quantity','Line Item Value']]\n",
    "trainy=x['Weight (Kilograms)']"
   ]
  },
  {
   "cell_type": "code",
   "execution_count": null,
   "id": "c26db2e9",
   "metadata": {},
   "outputs": [
    {
     "ename": "",
     "evalue": "",
     "output_type": "error",
     "traceback": [
      "\u001b[1;31mFailed to start the Kernel. \n",
      "\u001b[1;31mWARNING: You are using pip version 22.0.4; however, version 22.2.2 is available.\n",
      "\u001b[1;31mYou should consider upgrading via the '/usr/local/bin/python3.10 -m pip install --upgrade pip' command. \n",
      "\u001b[1;31mView Jupyter <a href='command:jupyter.viewOutput'>log</a> for further details."
     ]
    }
   ],
   "source": [
    "X=trainx.iloc[:, ].values.astype(int)"
   ]
  },
  {
   "cell_type": "code",
   "execution_count": null,
   "id": "f871aead",
   "metadata": {},
   "outputs": [
    {
     "ename": "",
     "evalue": "",
     "output_type": "error",
     "traceback": [
      "\u001b[1;31mFailed to start the Kernel. \n",
      "\u001b[1;31mWARNING: You are using pip version 22.0.4; however, version 22.2.2 is available.\n",
      "\u001b[1;31mYou should consider upgrading via the '/usr/local/bin/python3.10 -m pip install --upgrade pip' command. \n",
      "\u001b[1;31mView Jupyter <a href='command:jupyter.viewOutput'>log</a> for further details."
     ]
    }
   ],
   "source": [
    "Y=trainy.iloc[:,].values.astype(int)"
   ]
  },
  {
   "cell_type": "code",
   "execution_count": null,
   "id": "91cd15f7",
   "metadata": {},
   "outputs": [
    {
     "ename": "",
     "evalue": "",
     "output_type": "error",
     "traceback": [
      "\u001b[1;31mFailed to start the Kernel. \n",
      "\u001b[1;31mWARNING: You are using pip version 22.0.4; however, version 22.2.2 is available.\n",
      "\u001b[1;31mYou should consider upgrading via the '/usr/local/bin/python3.10 -m pip install --upgrade pip' command. \n",
      "\u001b[1;31mView Jupyter <a href='command:jupyter.viewOutput'>log</a> for further details."
     ]
    }
   ],
   "source": [
    "print(X)\n",
    "print(Y)"
   ]
  },
  {
   "cell_type": "code",
   "execution_count": null,
   "id": "01777f49",
   "metadata": {},
   "outputs": [
    {
     "ename": "",
     "evalue": "",
     "output_type": "error",
     "traceback": [
      "\u001b[1;31mFailed to start the Kernel. \n",
      "\u001b[1;31mWARNING: You are using pip version 22.0.4; however, version 22.2.2 is available.\n",
      "\u001b[1;31mYou should consider upgrading via the '/usr/local/bin/python3.10 -m pip install --upgrade pip' command. \n",
      "\u001b[1;31mView Jupyter <a href='command:jupyter.viewOutput'>log</a> for further details."
     ]
    }
   ],
   "source": [
    "X_train,X_test,Y_train,Y_test=train_test_split(X,Y,test_size=0.20)"
   ]
  },
  {
   "cell_type": "code",
   "execution_count": null,
   "id": "2e2dc43c",
   "metadata": {},
   "outputs": [
    {
     "ename": "",
     "evalue": "",
     "output_type": "error",
     "traceback": [
      "\u001b[1;31mFailed to start the Kernel. \n",
      "\u001b[1;31mWARNING: You are using pip version 22.0.4; however, version 22.2.2 is available.\n",
      "\u001b[1;31mYou should consider upgrading via the '/usr/local/bin/python3.10 -m pip install --upgrade pip' command. \n",
      "\u001b[1;31mView Jupyter <a href='command:jupyter.viewOutput'>log</a> for further details."
     ]
    }
   ],
   "source": [
    "print(X_train.shape)\n",
    "print(X_test.shape)\n",
    "print(Y_train.shape)\n",
    "print(Y_test.shape)"
   ]
  },
  {
   "cell_type": "code",
   "execution_count": null,
   "id": "6e5f5681",
   "metadata": {},
   "outputs": [
    {
     "ename": "",
     "evalue": "",
     "output_type": "error",
     "traceback": [
      "\u001b[1;31mFailed to start the Kernel. \n",
      "\u001b[1;31mWARNING: You are using pip version 22.0.4; however, version 22.2.2 is available.\n",
      "\u001b[1;31mYou should consider upgrading via the '/usr/local/bin/python3.10 -m pip install --upgrade pip' command. \n",
      "\u001b[1;31mView Jupyter <a href='command:jupyter.viewOutput'>log</a> for further details."
     ]
    }
   ],
   "source": []
  },
  {
   "cell_type": "code",
   "execution_count": null,
   "id": "4df4dddf",
   "metadata": {},
   "outputs": [
    {
     "ename": "",
     "evalue": "",
     "output_type": "error",
     "traceback": [
      "\u001b[1;31mFailed to start the Kernel. \n",
      "\u001b[1;31mWARNING: You are using pip version 22.0.4; however, version 22.2.2 is available.\n",
      "\u001b[1;31mYou should consider upgrading via the '/usr/local/bin/python3.10 -m pip install --upgrade pip' command. \n",
      "\u001b[1;31mView Jupyter <a href='command:jupyter.viewOutput'>log</a> for further details."
     ]
    }
   ],
   "source": [
    "mms=MinMaxScaler()\n",
    "X_train_mms=mms.fit_transform(X_train)\n",
    "X_test_mms=mms.fit_transform(X_test)\n"
   ]
  },
  {
   "cell_type": "code",
   "execution_count": null,
   "id": "47f51d0d",
   "metadata": {},
   "outputs": [
    {
     "ename": "",
     "evalue": "",
     "output_type": "error",
     "traceback": [
      "\u001b[1;31mFailed to start the Kernel. \n",
      "\u001b[1;31mWARNING: You are using pip version 22.0.4; however, version 22.2.2 is available.\n",
      "\u001b[1;31mYou should consider upgrading via the '/usr/local/bin/python3.10 -m pip install --upgrade pip' command. \n",
      "\u001b[1;31mView Jupyter <a href='command:jupyter.viewOutput'>log</a> for further details."
     ]
    }
   ],
   "source": [
    "# Linear Regression\n",
    "model=LinearRegression()\n",
    "model.fit(X_train,Y_train)\n",
    "print(model.coef_.astype(int))\n",
    "model.intercept_.astype(int)\n"
   ]
  },
  {
   "cell_type": "code",
   "execution_count": null,
   "id": "7117c323",
   "metadata": {},
   "outputs": [
    {
     "ename": "",
     "evalue": "",
     "output_type": "error",
     "traceback": [
      "\u001b[1;31mFailed to start the Kernel. \n",
      "\u001b[1;31mWARNING: You are using pip version 22.0.4; however, version 22.2.2 is available.\n",
      "\u001b[1;31mYou should consider upgrading via the '/usr/local/bin/python3.10 -m pip install --upgrade pip' command. \n",
      "\u001b[1;31mView Jupyter <a href='command:jupyter.viewOutput'>log</a> for further details."
     ]
    }
   ],
   "source": [
    "model.predict(X_test[0,:].reshape(1,-1)).astype(int)"
   ]
  },
  {
   "cell_type": "code",
   "execution_count": null,
   "id": "49586166",
   "metadata": {},
   "outputs": [
    {
     "ename": "",
     "evalue": "",
     "output_type": "error",
     "traceback": [
      "\u001b[1;31mFailed to start the Kernel. \n",
      "\u001b[1;31mWARNING: You are using pip version 22.0.4; however, version 22.2.2 is available.\n",
      "\u001b[1;31mYou should consider upgrading via the '/usr/local/bin/python3.10 -m pip install --upgrade pip' command. \n",
      "\u001b[1;31mView Jupyter <a href='command:jupyter.viewOutput'>log</a> for further details."
     ]
    }
   ],
   "source": [
    "model.score(X_test,Y_test)"
   ]
  },
  {
   "cell_type": "code",
   "execution_count": null,
   "id": "1d2d94ff",
   "metadata": {},
   "outputs": [
    {
     "ename": "",
     "evalue": "",
     "output_type": "error",
     "traceback": [
      "\u001b[1;31mFailed to start the Kernel. \n",
      "\u001b[1;31mWARNING: You are using pip version 22.0.4; however, version 22.2.2 is available.\n",
      "\u001b[1;31mYou should consider upgrading via the '/usr/local/bin/python3.10 -m pip install --upgrade pip' command. \n",
      "\u001b[1;31mView Jupyter <a href='command:jupyter.viewOutput'>log</a> for further details."
     ]
    }
   ],
   "source": [
    "sns.lmplot(x ='Line Item Quantity', y ='Weight (Kilograms)', data = x)"
   ]
  },
  {
   "cell_type": "code",
   "execution_count": null,
   "id": "69763691",
   "metadata": {},
   "outputs": [
    {
     "ename": "",
     "evalue": "",
     "output_type": "error",
     "traceback": [
      "\u001b[1;31mFailed to start the Kernel. \n",
      "\u001b[1;31mWARNING: You are using pip version 22.0.4; however, version 22.2.2 is available.\n",
      "\u001b[1;31mYou should consider upgrading via the '/usr/local/bin/python3.10 -m pip install --upgrade pip' command. \n",
      "\u001b[1;31mView Jupyter <a href='command:jupyter.viewOutput'>log</a> for further details."
     ]
    }
   ],
   "source": [
    "x.dtypes\n"
   ]
  },
  {
   "cell_type": "code",
   "execution_count": null,
   "id": "c961c467",
   "metadata": {},
   "outputs": [
    {
     "ename": "",
     "evalue": "",
     "output_type": "error",
     "traceback": [
      "\u001b[1;31mFailed to start the Kernel. \n",
      "\u001b[1;31mWARNING: You are using pip version 22.0.4; however, version 22.2.2 is available.\n",
      "\u001b[1;31mYou should consider upgrading via the '/usr/local/bin/python3.10 -m pip install --upgrade pip' command. \n",
      "\u001b[1;31mView Jupyter <a href='command:jupyter.viewOutput'>log</a> for further details."
     ]
    }
   ],
   "source": [
    "x"
   ]
  }
 ],
 "metadata": {
  "kernelspec": {
   "display_name": "Python 3.10.2 64-bit",
   "language": "python",
   "name": "python3"
  },
  "language_info": {
   "codemirror_mode": {
    "name": "ipython",
    "version": 3
   },
   "file_extension": ".py",
   "mimetype": "text/x-python",
   "name": "python",
   "nbconvert_exporter": "python",
   "pygments_lexer": "ipython3",
   "version": "3.10.2"
  },
  "vscode": {
   "interpreter": {
    "hash": "7e1998ff7f8aa20ada591c520b972326324e5ea05489af9e422744c7c09f6dad"
   }
  }
 },
 "nbformat": 4,
 "nbformat_minor": 5
}
